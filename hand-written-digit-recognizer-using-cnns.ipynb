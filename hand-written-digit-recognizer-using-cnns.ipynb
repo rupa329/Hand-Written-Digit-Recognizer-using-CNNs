{
 "cells": [
  {
   "cell_type": "code",
   "execution_count": 1,
   "id": "paperback-lease",
   "metadata": {
    "_cell_guid": "b1076dfc-b9ad-4769-8c92-a6c4dae69d19",
    "_uuid": "8f2839f25d086af736a60e9eeb907d3b93b6e0e5",
    "execution": {
     "iopub.execute_input": "2021-06-02T18:13:08.986002Z",
     "iopub.status.busy": "2021-06-02T18:13:08.985319Z",
     "iopub.status.idle": "2021-06-02T18:13:14.335698Z",
     "shell.execute_reply": "2021-06-02T18:13:14.336205Z",
     "shell.execute_reply.started": "2021-06-02T16:38:23.945588Z"
    },
    "papermill": {
     "duration": 5.38375,
     "end_time": "2021-06-02T18:13:14.336491",
     "exception": false,
     "start_time": "2021-06-02T18:13:08.952741",
     "status": "completed"
    },
    "tags": []
   },
   "outputs": [
    {
     "name": "stdout",
     "output_type": "stream",
     "text": [
      "2.4.1\n"
     ]
    }
   ],
   "source": [
    "from IPython.core.interactiveshell import InteractiveShell\n",
    "InteractiveShell.ast_node_interactivity = \"all\"\n",
    "%matplotlib inline\n",
    "\n",
    "# TensorFlow and tf.keras\n",
    "import tensorflow as tf\n",
    "from tensorflow import keras\n",
    "\n",
    "# Helper libraries\n",
    "import numpy as np\n",
    "import pandas as pd\n",
    "import matplotlib.pyplot as plt\n",
    "\n",
    "print(tf.__version__)"
   ]
  },
  {
   "cell_type": "code",
   "execution_count": 2,
   "id": "increasing-muslim",
   "metadata": {
    "execution": {
     "iopub.execute_input": "2021-06-02T18:13:14.380076Z",
     "iopub.status.busy": "2021-06-02T18:13:14.379170Z",
     "iopub.status.idle": "2021-06-02T18:13:14.943512Z",
     "shell.execute_reply": "2021-06-02T18:13:14.944091Z",
     "shell.execute_reply.started": "2021-06-02T16:38:23.961362Z"
    },
    "papermill": {
     "duration": 0.589538,
     "end_time": "2021-06-02T18:13:14.944266",
     "exception": false,
     "start_time": "2021-06-02T18:13:14.354728",
     "status": "completed"
    },
    "tags": []
   },
   "outputs": [],
   "source": [
    "from sklearn.preprocessing import LabelEncoder\n",
    "from sklearn.model_selection import train_test_split\n",
    "from tensorflow.keras.models import Sequential\n",
    "from tensorflow.keras.layers import Conv2D, MaxPool2D, Flatten, Dense, Dropout, Activation, BatchNormalization\n",
    "from tensorflow.keras.utils import to_categorical\n",
    "from tensorflow.keras.losses import categorical_crossentropy\n",
    "from tensorflow.keras.optimizers import Adam\n",
    "from tensorflow.keras.models import load_model"
   ]
  },
  {
   "cell_type": "code",
   "execution_count": 3,
   "id": "sought-chain",
   "metadata": {
    "execution": {
     "iopub.execute_input": "2021-06-02T18:13:14.984231Z",
     "iopub.status.busy": "2021-06-02T18:13:14.983290Z",
     "iopub.status.idle": "2021-06-02T18:13:14.987063Z",
     "shell.execute_reply": "2021-06-02T18:13:14.987473Z",
     "shell.execute_reply.started": "2021-06-02T16:38:23.972950Z"
    },
    "papermill": {
     "duration": 0.025085,
     "end_time": "2021-06-02T18:13:14.987632",
     "exception": false,
     "start_time": "2021-06-02T18:13:14.962547",
     "status": "completed"
    },
    "tags": []
   },
   "outputs": [],
   "source": [
    "from IPython.core.interactiveshell import InteractiveShell\n",
    "InteractiveShell.ast_node_interactivity = 'all'"
   ]
  },
  {
   "cell_type": "code",
   "execution_count": 4,
   "id": "adolescent-terrain",
   "metadata": {
    "execution": {
     "iopub.execute_input": "2021-06-02T18:13:15.028864Z",
     "iopub.status.busy": "2021-06-02T18:13:15.028188Z",
     "iopub.status.idle": "2021-06-02T18:13:18.963792Z",
     "shell.execute_reply": "2021-06-02T18:13:18.964230Z",
     "shell.execute_reply.started": "2021-06-02T16:38:23.985837Z"
    },
    "papermill": {
     "duration": 3.95887,
     "end_time": "2021-06-02T18:13:18.964410",
     "exception": false,
     "start_time": "2021-06-02T18:13:15.005540",
     "status": "completed"
    },
    "tags": []
   },
   "outputs": [
    {
     "data": {
      "text/plain": [
       "(42000, 785)"
      ]
     },
     "execution_count": 4,
     "metadata": {},
     "output_type": "execute_result"
    },
    {
     "data": {
      "text/html": [
       "<div>\n",
       "<style scoped>\n",
       "    .dataframe tbody tr th:only-of-type {\n",
       "        vertical-align: middle;\n",
       "    }\n",
       "\n",
       "    .dataframe tbody tr th {\n",
       "        vertical-align: top;\n",
       "    }\n",
       "\n",
       "    .dataframe thead th {\n",
       "        text-align: right;\n",
       "    }\n",
       "</style>\n",
       "<table border=\"1\" class=\"dataframe\">\n",
       "  <thead>\n",
       "    <tr style=\"text-align: right;\">\n",
       "      <th></th>\n",
       "      <th>label</th>\n",
       "      <th>pixel0</th>\n",
       "      <th>pixel1</th>\n",
       "      <th>pixel2</th>\n",
       "      <th>pixel3</th>\n",
       "      <th>pixel4</th>\n",
       "      <th>pixel5</th>\n",
       "      <th>pixel6</th>\n",
       "      <th>pixel7</th>\n",
       "      <th>pixel8</th>\n",
       "      <th>...</th>\n",
       "      <th>pixel774</th>\n",
       "      <th>pixel775</th>\n",
       "      <th>pixel776</th>\n",
       "      <th>pixel777</th>\n",
       "      <th>pixel778</th>\n",
       "      <th>pixel779</th>\n",
       "      <th>pixel780</th>\n",
       "      <th>pixel781</th>\n",
       "      <th>pixel782</th>\n",
       "      <th>pixel783</th>\n",
       "    </tr>\n",
       "  </thead>\n",
       "  <tbody>\n",
       "    <tr>\n",
       "      <th>0</th>\n",
       "      <td>1</td>\n",
       "      <td>0</td>\n",
       "      <td>0</td>\n",
       "      <td>0</td>\n",
       "      <td>0</td>\n",
       "      <td>0</td>\n",
       "      <td>0</td>\n",
       "      <td>0</td>\n",
       "      <td>0</td>\n",
       "      <td>0</td>\n",
       "      <td>...</td>\n",
       "      <td>0</td>\n",
       "      <td>0</td>\n",
       "      <td>0</td>\n",
       "      <td>0</td>\n",
       "      <td>0</td>\n",
       "      <td>0</td>\n",
       "      <td>0</td>\n",
       "      <td>0</td>\n",
       "      <td>0</td>\n",
       "      <td>0</td>\n",
       "    </tr>\n",
       "    <tr>\n",
       "      <th>1</th>\n",
       "      <td>0</td>\n",
       "      <td>0</td>\n",
       "      <td>0</td>\n",
       "      <td>0</td>\n",
       "      <td>0</td>\n",
       "      <td>0</td>\n",
       "      <td>0</td>\n",
       "      <td>0</td>\n",
       "      <td>0</td>\n",
       "      <td>0</td>\n",
       "      <td>...</td>\n",
       "      <td>0</td>\n",
       "      <td>0</td>\n",
       "      <td>0</td>\n",
       "      <td>0</td>\n",
       "      <td>0</td>\n",
       "      <td>0</td>\n",
       "      <td>0</td>\n",
       "      <td>0</td>\n",
       "      <td>0</td>\n",
       "      <td>0</td>\n",
       "    </tr>\n",
       "    <tr>\n",
       "      <th>2</th>\n",
       "      <td>1</td>\n",
       "      <td>0</td>\n",
       "      <td>0</td>\n",
       "      <td>0</td>\n",
       "      <td>0</td>\n",
       "      <td>0</td>\n",
       "      <td>0</td>\n",
       "      <td>0</td>\n",
       "      <td>0</td>\n",
       "      <td>0</td>\n",
       "      <td>...</td>\n",
       "      <td>0</td>\n",
       "      <td>0</td>\n",
       "      <td>0</td>\n",
       "      <td>0</td>\n",
       "      <td>0</td>\n",
       "      <td>0</td>\n",
       "      <td>0</td>\n",
       "      <td>0</td>\n",
       "      <td>0</td>\n",
       "      <td>0</td>\n",
       "    </tr>\n",
       "    <tr>\n",
       "      <th>3</th>\n",
       "      <td>4</td>\n",
       "      <td>0</td>\n",
       "      <td>0</td>\n",
       "      <td>0</td>\n",
       "      <td>0</td>\n",
       "      <td>0</td>\n",
       "      <td>0</td>\n",
       "      <td>0</td>\n",
       "      <td>0</td>\n",
       "      <td>0</td>\n",
       "      <td>...</td>\n",
       "      <td>0</td>\n",
       "      <td>0</td>\n",
       "      <td>0</td>\n",
       "      <td>0</td>\n",
       "      <td>0</td>\n",
       "      <td>0</td>\n",
       "      <td>0</td>\n",
       "      <td>0</td>\n",
       "      <td>0</td>\n",
       "      <td>0</td>\n",
       "    </tr>\n",
       "    <tr>\n",
       "      <th>4</th>\n",
       "      <td>0</td>\n",
       "      <td>0</td>\n",
       "      <td>0</td>\n",
       "      <td>0</td>\n",
       "      <td>0</td>\n",
       "      <td>0</td>\n",
       "      <td>0</td>\n",
       "      <td>0</td>\n",
       "      <td>0</td>\n",
       "      <td>0</td>\n",
       "      <td>...</td>\n",
       "      <td>0</td>\n",
       "      <td>0</td>\n",
       "      <td>0</td>\n",
       "      <td>0</td>\n",
       "      <td>0</td>\n",
       "      <td>0</td>\n",
       "      <td>0</td>\n",
       "      <td>0</td>\n",
       "      <td>0</td>\n",
       "      <td>0</td>\n",
       "    </tr>\n",
       "  </tbody>\n",
       "</table>\n",
       "<p>5 rows × 785 columns</p>\n",
       "</div>"
      ],
      "text/plain": [
       "   label  pixel0  pixel1  pixel2  pixel3  pixel4  pixel5  pixel6  pixel7  \\\n",
       "0      1       0       0       0       0       0       0       0       0   \n",
       "1      0       0       0       0       0       0       0       0       0   \n",
       "2      1       0       0       0       0       0       0       0       0   \n",
       "3      4       0       0       0       0       0       0       0       0   \n",
       "4      0       0       0       0       0       0       0       0       0   \n",
       "\n",
       "   pixel8  ...  pixel774  pixel775  pixel776  pixel777  pixel778  pixel779  \\\n",
       "0       0  ...         0         0         0         0         0         0   \n",
       "1       0  ...         0         0         0         0         0         0   \n",
       "2       0  ...         0         0         0         0         0         0   \n",
       "3       0  ...         0         0         0         0         0         0   \n",
       "4       0  ...         0         0         0         0         0         0   \n",
       "\n",
       "   pixel780  pixel781  pixel782  pixel783  \n",
       "0         0         0         0         0  \n",
       "1         0         0         0         0  \n",
       "2         0         0         0         0  \n",
       "3         0         0         0         0  \n",
       "4         0         0         0         0  \n",
       "\n",
       "[5 rows x 785 columns]"
      ]
     },
     "execution_count": 4,
     "metadata": {},
     "output_type": "execute_result"
    }
   ],
   "source": [
    "train_df=pd.read_csv('../input/digit-recognizer/train.csv')\n",
    "train_df.shape\n",
    "train_df.head()"
   ]
  },
  {
   "cell_type": "code",
   "execution_count": 5,
   "id": "damaged-intro",
   "metadata": {
    "execution": {
     "iopub.execute_input": "2021-06-02T18:13:19.006256Z",
     "iopub.status.busy": "2021-06-02T18:13:19.005557Z",
     "iopub.status.idle": "2021-06-02T18:13:21.203749Z",
     "shell.execute_reply": "2021-06-02T18:13:21.204210Z",
     "shell.execute_reply.started": "2021-06-02T16:38:27.154485Z"
    },
    "papermill": {
     "duration": 2.22097,
     "end_time": "2021-06-02T18:13:21.204388",
     "exception": false,
     "start_time": "2021-06-02T18:13:18.983418",
     "status": "completed"
    },
    "tags": []
   },
   "outputs": [
    {
     "data": {
      "text/plain": [
       "(28000, 784)"
      ]
     },
     "execution_count": 5,
     "metadata": {},
     "output_type": "execute_result"
    },
    {
     "data": {
      "text/html": [
       "<div>\n",
       "<style scoped>\n",
       "    .dataframe tbody tr th:only-of-type {\n",
       "        vertical-align: middle;\n",
       "    }\n",
       "\n",
       "    .dataframe tbody tr th {\n",
       "        vertical-align: top;\n",
       "    }\n",
       "\n",
       "    .dataframe thead th {\n",
       "        text-align: right;\n",
       "    }\n",
       "</style>\n",
       "<table border=\"1\" class=\"dataframe\">\n",
       "  <thead>\n",
       "    <tr style=\"text-align: right;\">\n",
       "      <th></th>\n",
       "      <th>pixel0</th>\n",
       "      <th>pixel1</th>\n",
       "      <th>pixel2</th>\n",
       "      <th>pixel3</th>\n",
       "      <th>pixel4</th>\n",
       "      <th>pixel5</th>\n",
       "      <th>pixel6</th>\n",
       "      <th>pixel7</th>\n",
       "      <th>pixel8</th>\n",
       "      <th>pixel9</th>\n",
       "      <th>...</th>\n",
       "      <th>pixel774</th>\n",
       "      <th>pixel775</th>\n",
       "      <th>pixel776</th>\n",
       "      <th>pixel777</th>\n",
       "      <th>pixel778</th>\n",
       "      <th>pixel779</th>\n",
       "      <th>pixel780</th>\n",
       "      <th>pixel781</th>\n",
       "      <th>pixel782</th>\n",
       "      <th>pixel783</th>\n",
       "    </tr>\n",
       "  </thead>\n",
       "  <tbody>\n",
       "    <tr>\n",
       "      <th>0</th>\n",
       "      <td>0</td>\n",
       "      <td>0</td>\n",
       "      <td>0</td>\n",
       "      <td>0</td>\n",
       "      <td>0</td>\n",
       "      <td>0</td>\n",
       "      <td>0</td>\n",
       "      <td>0</td>\n",
       "      <td>0</td>\n",
       "      <td>0</td>\n",
       "      <td>...</td>\n",
       "      <td>0</td>\n",
       "      <td>0</td>\n",
       "      <td>0</td>\n",
       "      <td>0</td>\n",
       "      <td>0</td>\n",
       "      <td>0</td>\n",
       "      <td>0</td>\n",
       "      <td>0</td>\n",
       "      <td>0</td>\n",
       "      <td>0</td>\n",
       "    </tr>\n",
       "    <tr>\n",
       "      <th>1</th>\n",
       "      <td>0</td>\n",
       "      <td>0</td>\n",
       "      <td>0</td>\n",
       "      <td>0</td>\n",
       "      <td>0</td>\n",
       "      <td>0</td>\n",
       "      <td>0</td>\n",
       "      <td>0</td>\n",
       "      <td>0</td>\n",
       "      <td>0</td>\n",
       "      <td>...</td>\n",
       "      <td>0</td>\n",
       "      <td>0</td>\n",
       "      <td>0</td>\n",
       "      <td>0</td>\n",
       "      <td>0</td>\n",
       "      <td>0</td>\n",
       "      <td>0</td>\n",
       "      <td>0</td>\n",
       "      <td>0</td>\n",
       "      <td>0</td>\n",
       "    </tr>\n",
       "    <tr>\n",
       "      <th>2</th>\n",
       "      <td>0</td>\n",
       "      <td>0</td>\n",
       "      <td>0</td>\n",
       "      <td>0</td>\n",
       "      <td>0</td>\n",
       "      <td>0</td>\n",
       "      <td>0</td>\n",
       "      <td>0</td>\n",
       "      <td>0</td>\n",
       "      <td>0</td>\n",
       "      <td>...</td>\n",
       "      <td>0</td>\n",
       "      <td>0</td>\n",
       "      <td>0</td>\n",
       "      <td>0</td>\n",
       "      <td>0</td>\n",
       "      <td>0</td>\n",
       "      <td>0</td>\n",
       "      <td>0</td>\n",
       "      <td>0</td>\n",
       "      <td>0</td>\n",
       "    </tr>\n",
       "    <tr>\n",
       "      <th>3</th>\n",
       "      <td>0</td>\n",
       "      <td>0</td>\n",
       "      <td>0</td>\n",
       "      <td>0</td>\n",
       "      <td>0</td>\n",
       "      <td>0</td>\n",
       "      <td>0</td>\n",
       "      <td>0</td>\n",
       "      <td>0</td>\n",
       "      <td>0</td>\n",
       "      <td>...</td>\n",
       "      <td>0</td>\n",
       "      <td>0</td>\n",
       "      <td>0</td>\n",
       "      <td>0</td>\n",
       "      <td>0</td>\n",
       "      <td>0</td>\n",
       "      <td>0</td>\n",
       "      <td>0</td>\n",
       "      <td>0</td>\n",
       "      <td>0</td>\n",
       "    </tr>\n",
       "    <tr>\n",
       "      <th>4</th>\n",
       "      <td>0</td>\n",
       "      <td>0</td>\n",
       "      <td>0</td>\n",
       "      <td>0</td>\n",
       "      <td>0</td>\n",
       "      <td>0</td>\n",
       "      <td>0</td>\n",
       "      <td>0</td>\n",
       "      <td>0</td>\n",
       "      <td>0</td>\n",
       "      <td>...</td>\n",
       "      <td>0</td>\n",
       "      <td>0</td>\n",
       "      <td>0</td>\n",
       "      <td>0</td>\n",
       "      <td>0</td>\n",
       "      <td>0</td>\n",
       "      <td>0</td>\n",
       "      <td>0</td>\n",
       "      <td>0</td>\n",
       "      <td>0</td>\n",
       "    </tr>\n",
       "  </tbody>\n",
       "</table>\n",
       "<p>5 rows × 784 columns</p>\n",
       "</div>"
      ],
      "text/plain": [
       "   pixel0  pixel1  pixel2  pixel3  pixel4  pixel5  pixel6  pixel7  pixel8  \\\n",
       "0       0       0       0       0       0       0       0       0       0   \n",
       "1       0       0       0       0       0       0       0       0       0   \n",
       "2       0       0       0       0       0       0       0       0       0   \n",
       "3       0       0       0       0       0       0       0       0       0   \n",
       "4       0       0       0       0       0       0       0       0       0   \n",
       "\n",
       "   pixel9  ...  pixel774  pixel775  pixel776  pixel777  pixel778  pixel779  \\\n",
       "0       0  ...         0         0         0         0         0         0   \n",
       "1       0  ...         0         0         0         0         0         0   \n",
       "2       0  ...         0         0         0         0         0         0   \n",
       "3       0  ...         0         0         0         0         0         0   \n",
       "4       0  ...         0         0         0         0         0         0   \n",
       "\n",
       "   pixel780  pixel781  pixel782  pixel783  \n",
       "0         0         0         0         0  \n",
       "1         0         0         0         0  \n",
       "2         0         0         0         0  \n",
       "3         0         0         0         0  \n",
       "4         0         0         0         0  \n",
       "\n",
       "[5 rows x 784 columns]"
      ]
     },
     "execution_count": 5,
     "metadata": {},
     "output_type": "execute_result"
    }
   ],
   "source": [
    "x_test=pd.read_csv('../input/digit-recognizer/test.csv')\n",
    "x_test.shape\n",
    "x_test.head()"
   ]
  },
  {
   "cell_type": "code",
   "execution_count": 6,
   "id": "initial-actor",
   "metadata": {
    "execution": {
     "iopub.execute_input": "2021-06-02T18:13:21.251408Z",
     "iopub.status.busy": "2021-06-02T18:13:21.250723Z",
     "iopub.status.idle": "2021-06-02T18:13:21.253731Z",
     "shell.execute_reply": "2021-06-02T18:13:21.254195Z",
     "shell.execute_reply.started": "2021-06-02T16:38:29.038915Z"
    },
    "papermill": {
     "duration": 0.029902,
     "end_time": "2021-06-02T18:13:21.254378",
     "exception": false,
     "start_time": "2021-06-02T18:13:21.224476",
     "status": "completed"
    },
    "tags": []
   },
   "outputs": [],
   "source": [
    "y_train=train_df['label']\n",
    "x_train=train_df.iloc[:,1:786]"
   ]
  },
  {
   "cell_type": "code",
   "execution_count": 7,
   "id": "arctic-avenue",
   "metadata": {
    "execution": {
     "iopub.execute_input": "2021-06-02T18:13:21.298739Z",
     "iopub.status.busy": "2021-06-02T18:13:21.298095Z",
     "iopub.status.idle": "2021-06-02T18:13:21.302833Z",
     "shell.execute_reply": "2021-06-02T18:13:21.303360Z",
     "shell.execute_reply.started": "2021-06-02T16:38:29.047284Z"
    },
    "papermill": {
     "duration": 0.029367,
     "end_time": "2021-06-02T18:13:21.303572",
     "exception": false,
     "start_time": "2021-06-02T18:13:21.274205",
     "status": "completed"
    },
    "tags": []
   },
   "outputs": [
    {
     "data": {
      "text/plain": [
       "(42000, 784)"
      ]
     },
     "execution_count": 7,
     "metadata": {},
     "output_type": "execute_result"
    },
    {
     "data": {
      "text/plain": [
       "(42000,)"
      ]
     },
     "execution_count": 7,
     "metadata": {},
     "output_type": "execute_result"
    }
   ],
   "source": [
    "x_train.shape\n",
    "y_train.shape"
   ]
  },
  {
   "cell_type": "code",
   "execution_count": 8,
   "id": "aware-cincinnati",
   "metadata": {
    "execution": {
     "iopub.execute_input": "2021-06-02T18:13:21.346949Z",
     "iopub.status.busy": "2021-06-02T18:13:21.346359Z",
     "iopub.status.idle": "2021-06-02T18:13:21.503488Z",
     "shell.execute_reply": "2021-06-02T18:13:21.502938Z",
     "shell.execute_reply.started": "2021-06-02T16:38:29.068832Z"
    },
    "papermill": {
     "duration": 0.179566,
     "end_time": "2021-06-02T18:13:21.503629",
     "exception": false,
     "start_time": "2021-06-02T18:13:21.324063",
     "status": "completed"
    },
    "tags": []
   },
   "outputs": [
    {
     "data": {
      "text/plain": [
       "<matplotlib.image.AxesImage at 0x7f506ec3bbd0>"
      ]
     },
     "execution_count": 8,
     "metadata": {},
     "output_type": "execute_result"
    },
    {
     "data": {
      "image/png": "[encoded data removed]",
      "text/plain": [
       "<Figure size 432x288 with 1 Axes>"
      ]
     },
     "metadata": {
      "needs_background": "light"
     },
     "output_type": "display_data"
    }
   ],
   "source": [
    "plt.imshow(x_train.iloc[0,:].values.reshape(28, 28))"
   ]
  },
  {
   "cell_type": "code",
   "execution_count": 9,
   "id": "appropriate-sunday",
   "metadata": {
    "execution": {
     "iopub.execute_input": "2021-06-02T18:13:21.571372Z",
     "iopub.status.busy": "2021-06-02T18:13:21.570368Z",
     "iopub.status.idle": "2021-06-02T18:13:21.829637Z",
     "shell.execute_reply": "2021-06-02T18:13:21.829076Z",
     "shell.execute_reply.started": "2021-06-02T16:38:29.219924Z"
    },
    "papermill": {
     "duration": 0.297975,
     "end_time": "2021-06-02T18:13:21.829787",
     "exception": false,
     "start_time": "2021-06-02T18:13:21.531812",
     "status": "completed"
    },
    "tags": []
   },
   "outputs": [
    {
     "data": {
      "text/plain": [
       "<AxesSubplot:>"
      ]
     },
     "execution_count": 9,
     "metadata": {},
     "output_type": "execute_result"
    },
    {
     "data": {
      "text/plain": [
       "<matplotlib.image.AxesImage at 0x7f506eb6ab50>"
      ]
     },
     "execution_count": 9,
     "metadata": {},
     "output_type": "execute_result"
    },
    {
     "data": {
      "text/plain": [
       "<AxesSubplot:>"
      ]
     },
     "execution_count": 9,
     "metadata": {},
     "output_type": "execute_result"
    },
    {
     "data": {
      "text/plain": [
       "<matplotlib.image.AxesImage at 0x7f506ebaf2d0>"
      ]
     },
     "execution_count": 9,
     "metadata": {},
     "output_type": "execute_result"
    },
    {
     "data": {
      "image/png": "[encoded data removed]",
      "text/plain": [
       "<Figure size 720x360 with 2 Axes>"
      ]
     },
     "metadata": {
      "needs_background": "light"
     },
     "output_type": "display_data"
    }
   ],
   "source": [
    "fig = plt.figure(figsize=(10, 5))\n",
    "rows=1\n",
    "col=2\n",
    "fig.add_subplot(rows, col, 1)\n",
    "plt.imshow(x_train.iloc[0,:].values.reshape(28, 28))\n",
    "\n",
    "fig.add_subplot(rows, col, 2)\n",
    "plt.imshow(x_train.iloc[1,:].values.reshape(28, 28))"
   ]
  },
  {
   "cell_type": "code",
   "execution_count": 10,
   "id": "musical-cooperative",
   "metadata": {
    "execution": {
     "iopub.execute_input": "2021-06-02T18:13:21.881463Z",
     "iopub.status.busy": "2021-06-02T18:13:21.880804Z",
     "iopub.status.idle": "2021-06-02T18:13:21.885499Z",
     "shell.execute_reply": "2021-06-02T18:13:21.884891Z",
     "shell.execute_reply.started": "2021-06-02T16:38:29.500432Z"
    },
    "papermill": {
     "duration": 0.032391,
     "end_time": "2021-06-02T18:13:21.885629",
     "exception": false,
     "start_time": "2021-06-02T18:13:21.853238",
     "status": "completed"
    },
    "tags": []
   },
   "outputs": [
    {
     "data": {
      "text/plain": [
       "1"
      ]
     },
     "execution_count": 10,
     "metadata": {},
     "output_type": "execute_result"
    },
    {
     "data": {
      "text/plain": [
       "0"
      ]
     },
     "execution_count": 10,
     "metadata": {},
     "output_type": "execute_result"
    }
   ],
   "source": [
    "y_train[0]\n",
    "y_train[1]"
   ]
  },
  {
   "cell_type": "code",
   "execution_count": 11,
   "id": "champion-creativity",
   "metadata": {
    "execution": {
     "iopub.execute_input": "2021-06-02T18:13:21.937007Z",
     "iopub.status.busy": "2021-06-02T18:13:21.936235Z",
     "iopub.status.idle": "2021-06-02T18:13:21.944917Z",
     "shell.execute_reply": "2021-06-02T18:13:21.944272Z",
     "shell.execute_reply.started": "2021-06-02T16:38:29.513026Z"
    },
    "papermill": {
     "duration": 0.035128,
     "end_time": "2021-06-02T18:13:21.945050",
     "exception": false,
     "start_time": "2021-06-02T18:13:21.909922",
     "status": "completed"
    },
    "tags": []
   },
   "outputs": [
    {
     "data": {
      "text/plain": [
       "1    4684\n",
       "7    4401\n",
       "3    4351\n",
       "9    4188\n",
       "2    4177\n",
       "6    4137\n",
       "0    4132\n",
       "4    4072\n",
       "8    4063\n",
       "5    3795\n",
       "Name: label, dtype: int64"
      ]
     },
     "execution_count": 11,
     "metadata": {},
     "output_type": "execute_result"
    }
   ],
   "source": [
    "y_train.value_counts()"
   ]
  },
  {
   "cell_type": "code",
   "execution_count": 12,
   "id": "amended-cabinet",
   "metadata": {
    "execution": {
     "iopub.execute_input": "2021-06-02T18:13:21.996582Z",
     "iopub.status.busy": "2021-06-02T18:13:21.995981Z",
     "iopub.status.idle": "2021-06-02T18:13:22.007858Z",
     "shell.execute_reply": "2021-06-02T18:13:22.007178Z",
     "shell.execute_reply.started": "2021-06-02T16:38:29.527819Z"
    },
    "papermill": {
     "duration": 0.038525,
     "end_time": "2021-06-02T18:13:22.007998",
     "exception": false,
     "start_time": "2021-06-02T18:13:21.969473",
     "status": "completed"
    },
    "tags": []
   },
   "outputs": [
    {
     "data": {
      "text/plain": [
       "0"
      ]
     },
     "execution_count": 12,
     "metadata": {},
     "output_type": "execute_result"
    }
   ],
   "source": [
    "sum(y_train.isnull())"
   ]
  },
  {
   "cell_type": "code",
   "execution_count": 13,
   "id": "minute-district",
   "metadata": {
    "execution": {
     "iopub.execute_input": "2021-06-02T18:13:22.065263Z",
     "iopub.status.busy": "2021-06-02T18:13:22.064585Z",
     "iopub.status.idle": "2021-06-02T18:13:22.303363Z",
     "shell.execute_reply": "2021-06-02T18:13:22.302891Z",
     "shell.execute_reply.started": "2021-06-02T16:38:29.544314Z"
    },
    "papermill": {
     "duration": 0.270517,
     "end_time": "2021-06-02T18:13:22.303497",
     "exception": false,
     "start_time": "2021-06-02T18:13:22.032980",
     "status": "completed"
    },
    "tags": []
   },
   "outputs": [
    {
     "data": {
      "text/plain": [
       "(37800, 784)"
      ]
     },
     "execution_count": 13,
     "metadata": {},
     "output_type": "execute_result"
    },
    {
     "data": {
      "text/plain": [
       "(4200, 784)"
      ]
     },
     "execution_count": 13,
     "metadata": {},
     "output_type": "execute_result"
    }
   ],
   "source": [
    "x1_t, x_val, y1_t, y_val=train_test_split(x_train, y_train, test_size=0.1, shuffle=True, random_state=1)\n",
    "x1_t.shape\n",
    "x_val.shape"
   ]
  },
  {
   "cell_type": "code",
   "execution_count": 14,
   "id": "affected-limitation",
   "metadata": {
    "execution": {
     "iopub.execute_input": "2021-06-02T18:13:22.361780Z",
     "iopub.status.busy": "2021-06-02T18:13:22.361123Z",
     "iopub.status.idle": "2021-06-02T18:13:22.365380Z",
     "shell.execute_reply": "2021-06-02T18:13:22.364862Z",
     "shell.execute_reply.started": "2021-06-02T16:38:29.875178Z"
    },
    "papermill": {
     "duration": 0.036665,
     "end_time": "2021-06-02T18:13:22.365513",
     "exception": false,
     "start_time": "2021-06-02T18:13:22.328848",
     "status": "completed"
    },
    "tags": []
   },
   "outputs": [
    {
     "data": {
      "text/plain": [
       "(37800, 28, 28, 1)"
      ]
     },
     "execution_count": 14,
     "metadata": {},
     "output_type": "execute_result"
    }
   ],
   "source": [
    "img_rows, img_cols=28, 28\n",
    "input_shape=(img_rows, img_cols, 1)\n",
    "\n",
    "x1_t=x1_t.values.reshape(x1_t.shape[0], img_rows, img_cols, 1)\n",
    "x_val=x_val.values.reshape(x_val.shape[0], img_rows, img_cols, 1)\n",
    "x_test=x_test.values.reshape(x_test.shape[0], img_rows, img_cols, 1)\n",
    "\n",
    "x1_t.shape"
   ]
  },
  {
   "cell_type": "code",
   "execution_count": 15,
   "id": "sudden-barbados",
   "metadata": {
    "execution": {
     "iopub.execute_input": "2021-06-02T18:13:22.419822Z",
     "iopub.status.busy": "2021-06-02T18:13:22.419174Z",
     "iopub.status.idle": "2021-06-02T18:13:23.218346Z",
     "shell.execute_reply": "2021-06-02T18:13:23.218894Z",
     "shell.execute_reply.started": "2021-06-02T16:38:29.886127Z"
    },
    "papermill": {
     "duration": 0.827804,
     "end_time": "2021-06-02T18:13:23.219063",
     "exception": false,
     "start_time": "2021-06-02T18:13:22.391259",
     "status": "completed"
    },
    "tags": []
   },
   "outputs": [
    {
     "data": {
      "text/plain": [
       "<matplotlib.image.AxesImage at 0x7f506f0ea950>"
      ]
     },
     "execution_count": 15,
     "metadata": {},
     "output_type": "execute_result"
    },
    {
     "data": {
      "text/plain": [
       "8"
      ]
     },
     "execution_count": 15,
     "metadata": {},
     "output_type": "execute_result"
    },
    {
     "data": {
      "image/png": "[encoded data removed]",
      "text/plain": [
       "<Figure size 432x288 with 1 Axes>"
      ]
     },
     "metadata": {
      "needs_background": "light"
     },
     "output_type": "display_data"
    }
   ],
   "source": [
    "\n",
    "x1_t=tf.keras.utils.normalize(x1_t)\n",
    "plt.imshow(x1_t[1])\n",
    "np.array(y1_t)[1] #we have to conver it to array, otherwise in series the indexes are also shuffled"
   ]
  },
  {
   "cell_type": "code",
   "execution_count": 16,
   "id": "delayed-township",
   "metadata": {
    "execution": {
     "iopub.execute_input": "2021-06-02T18:13:23.277025Z",
     "iopub.status.busy": "2021-06-02T18:13:23.276442Z",
     "iopub.status.idle": "2021-06-02T18:13:23.285355Z",
     "shell.execute_reply": "2021-06-02T18:13:23.284856Z",
     "shell.execute_reply.started": "2021-06-02T16:44:31.553016Z"
    },
    "papermill": {
     "duration": 0.038427,
     "end_time": "2021-06-02T18:13:23.285488",
     "exception": false,
     "start_time": "2021-06-02T18:13:23.247061",
     "status": "completed"
    },
    "tags": []
   },
   "outputs": [
    {
     "data": {
      "text/plain": [
       "10"
      ]
     },
     "execution_count": 16,
     "metadata": {},
     "output_type": "execute_result"
    }
   ],
   "source": [
    "n=y1_t.unique()\n",
    "n_classes=n.shape[0]\n",
    "n_classes"
   ]
  },
  {
   "cell_type": "code",
   "execution_count": 17,
   "id": "equal-being",
   "metadata": {
    "execution": {
     "iopub.execute_input": "2021-06-02T18:13:23.345173Z",
     "iopub.status.busy": "2021-06-02T18:13:23.344502Z",
     "iopub.status.idle": "2021-06-02T18:13:23.348853Z",
     "shell.execute_reply": "2021-06-02T18:13:23.349346Z",
     "shell.execute_reply.started": "2021-06-02T16:46:19.776850Z"
    },
    "papermill": {
     "duration": 0.036328,
     "end_time": "2021-06-02T18:13:23.349519",
     "exception": false,
     "start_time": "2021-06-02T18:13:23.313191",
     "status": "completed"
    },
    "tags": []
   },
   "outputs": [
    {
     "data": {
      "text/plain": [
       "(37800, 10)"
      ]
     },
     "execution_count": 17,
     "metadata": {},
     "output_type": "execute_result"
    }
   ],
   "source": [
    "y1_t=to_categorical(y1_t, n_classes)\n",
    "y_val=to_categorical(y_val, n_classes)\n",
    "y1_t.shape"
   ]
  },
  {
   "cell_type": "code",
   "execution_count": 18,
   "id": "equal-booth",
   "metadata": {
    "execution": {
     "iopub.execute_input": "2021-06-02T18:13:23.408040Z",
     "iopub.status.busy": "2021-06-02T18:13:23.407371Z",
     "iopub.status.idle": "2021-06-02T18:13:23.793384Z",
     "shell.execute_reply": "2021-06-02T18:13:23.792469Z",
     "shell.execute_reply.started": "2021-06-02T17:31:15.779410Z"
    },
    "papermill": {
     "duration": 0.416326,
     "end_time": "2021-06-02T18:13:23.793608",
     "exception": false,
     "start_time": "2021-06-02T18:13:23.377282",
     "status": "completed"
    },
    "tags": []
   },
   "outputs": [
    {
     "name": "stdout",
     "output_type": "stream",
     "text": [
      "Model: \"sequential\"\n",
      "_________________________________________________________________\n",
      "Layer (type)                 Output Shape              Param #   \n",
      "=================================================================\n",
      "conv2d (Conv2D)              (None, 26, 26, 10)        100       \n",
      "_________________________________________________________________\n",
      "batch_normalization (BatchNo (None, 26, 26, 10)        40        \n",
      "_________________________________________________________________\n",
      "conv2d_1 (Conv2D)            (None, 24, 24, 10)        910       \n",
      "_________________________________________________________________\n",
      "batch_normalization_1 (Batch (None, 24, 24, 10)        40        \n",
      "_________________________________________________________________\n",
      "max_pooling2d (MaxPooling2D) (None, 12, 12, 10)        0         \n",
      "_________________________________________________________________\n",
      "dropout (Dropout)            (None, 12, 12, 10)        0         \n",
      "_________________________________________________________________\n",
      "conv2d_2 (Conv2D)            (None, 10, 10, 20)        1820      \n",
      "_________________________________________________________________\n",
      "batch_normalization_2 (Batch (None, 10, 10, 20)        80        \n",
      "_________________________________________________________________\n",
      "conv2d_3 (Conv2D)            (None, 8, 8, 20)          3620      \n",
      "_________________________________________________________________\n",
      "batch_normalization_3 (Batch (None, 8, 8, 20)          80        \n",
      "_________________________________________________________________\n",
      "max_pooling2d_1 (MaxPooling2 (None, 4, 4, 20)          0         \n",
      "_________________________________________________________________\n",
      "dropout_1 (Dropout)          (None, 4, 4, 20)          0         \n",
      "_________________________________________________________________\n",
      "flatten (Flatten)            (None, 320)               0         \n",
      "_________________________________________________________________\n",
      "dense (Dense)                (None, 256)               82176     \n",
      "_________________________________________________________________\n",
      "dropout_2 (Dropout)          (None, 256)               0         \n",
      "_________________________________________________________________\n",
      "dense_1 (Dense)              (None, 256)               65792     \n",
      "_________________________________________________________________\n",
      "dropout_3 (Dropout)          (None, 256)               0         \n",
      "_________________________________________________________________\n",
      "dense_2 (Dense)              (None, 10)                2570      \n",
      "=================================================================\n",
      "Total params: 157,228\n",
      "Trainable params: 157,108\n",
      "Non-trainable params: 120\n",
      "_________________________________________________________________\n"
     ]
    }
   ],
   "source": [
    "model=Sequential()\n",
    "\n",
    "model.add(Conv2D(filters=10, kernel_size=(3,3), activation='relu', input_shape=input_shape))\n",
    "model.add(BatchNormalization())\n",
    "model.add(Conv2D(filters=10, kernel_size=(3,3), activation='relu', input_shape=input_shape))\n",
    "model.add(BatchNormalization())\n",
    "model.add(MaxPool2D(strides=(2,2)))\n",
    "model.add(Dropout(0.1))\n",
    "\n",
    "model.add(Conv2D(filters=20, kernel_size=(3,3), activation='relu'))\n",
    "model.add(BatchNormalization())\n",
    "model.add(Conv2D(filters=20, kernel_size=(3,3), activation='relu'))\n",
    "model.add(BatchNormalization())\n",
    "model.add(MaxPool2D(strides=(2,2)))\n",
    "model.add(Dropout(0.1))\n",
    "\n",
    "model.add(Flatten())\n",
    "model.add(Dense(256, activation='relu'))\n",
    "model.add(Dropout(0.1))\n",
    "\n",
    "model.add(Dense(256, activation='relu'))\n",
    "model.add(Dropout(0.25))\n",
    "model.add(Dense(n_classes, activation='softmax'))\n",
    "\n",
    "learning_rate=0.001\n",
    "\n",
    "model.compile(loss=categorical_crossentropy, optimizer=Adam(learning_rate), metrics=['accuracy'])\n",
    "\n",
    "model.summary()"
   ]
  },
  {
   "cell_type": "code",
   "execution_count": 19,
   "id": "possible-lover",
   "metadata": {
    "execution": {
     "iopub.execute_input": "2021-06-02T18:13:23.855209Z",
     "iopub.status.busy": "2021-06-02T18:13:23.854469Z",
     "iopub.status.idle": "2021-06-02T18:13:23.857593Z",
     "shell.execute_reply": "2021-06-02T18:13:23.857099Z",
     "shell.execute_reply.started": "2021-06-02T17:31:16.748097Z"
    },
    "papermill": {
     "duration": 0.035945,
     "end_time": "2021-06-02T18:13:23.857769",
     "exception": false,
     "start_time": "2021-06-02T18:13:23.821824",
     "status": "completed"
    },
    "tags": []
   },
   "outputs": [],
   "source": [
    "#Save the model during training \n",
    "\n",
    "from tensorflow.keras.callbacks import ModelCheckpoint\n",
    "save_at = \"/kaggle/working/model.hdf5\"\n",
    "save_best = ModelCheckpoint (save_at, monitor='val_accuracy', verbose=0, save_best_only=True, save_weights_only=False, mode='max')"
   ]
  },
  {
   "cell_type": "code",
   "execution_count": 20,
   "id": "connected-police",
   "metadata": {
    "execution": {
     "iopub.execute_input": "2021-06-02T18:13:23.920138Z",
     "iopub.status.busy": "2021-06-02T18:13:23.919454Z",
     "iopub.status.idle": "2021-06-02T18:18:53.840044Z",
     "shell.execute_reply": "2021-06-02T18:18:53.839381Z",
     "shell.execute_reply.started": "2021-06-02T17:46:03.153730Z"
    },
    "papermill": {
     "duration": 329.953039,
     "end_time": "2021-06-02T18:18:53.840202",
     "exception": false,
     "start_time": "2021-06-02T18:13:23.887163",
     "status": "completed"
    },
    "tags": []
   },
   "outputs": [
    {
     "name": "stdout",
     "output_type": "stream",
     "text": [
      "Epoch 1/10\n",
      "1182/1182 [==============================] - 34s 28ms/step - loss: 0.4130 - accuracy: 0.8667 - val_loss: 619.0166 - val_accuracy: 0.3986\n",
      "Epoch 2/10\n",
      "1182/1182 [==============================] - 32s 27ms/step - loss: 0.0903 - accuracy: 0.9726 - val_loss: 292.4209 - val_accuracy: 0.5519\n",
      "Epoch 3/10\n",
      "1182/1182 [==============================] - 32s 27ms/step - loss: 0.0646 - accuracy: 0.9798 - val_loss: 129.9277 - val_accuracy: 0.7526\n",
      "Epoch 4/10\n",
      "1182/1182 [==============================] - 33s 28ms/step - loss: 0.0496 - accuracy: 0.9842 - val_loss: 248.9234 - val_accuracy: 0.6498\n",
      "Epoch 5/10\n",
      "1182/1182 [==============================] - 33s 28ms/step - loss: 0.0508 - accuracy: 0.9842 - val_loss: 131.6022 - val_accuracy: 0.7360\n",
      "Epoch 6/10\n",
      "1182/1182 [==============================] - 33s 28ms/step - loss: 0.0473 - accuracy: 0.9854 - val_loss: 186.6751 - val_accuracy: 0.6774\n",
      "Epoch 7/10\n",
      "1182/1182 [==============================] - 33s 28ms/step - loss: 0.0384 - accuracy: 0.9884 - val_loss: 61.8404 - val_accuracy: 0.8307\n",
      "Epoch 8/10\n",
      "1182/1182 [==============================] - 33s 28ms/step - loss: 0.0350 - accuracy: 0.9898 - val_loss: 131.6854 - val_accuracy: 0.7198\n",
      "Epoch 9/10\n",
      "1182/1182 [==============================] - 33s 28ms/step - loss: 0.0356 - accuracy: 0.9897 - val_loss: 129.1698 - val_accuracy: 0.7507\n",
      "Epoch 10/10\n",
      "1182/1182 [==============================] - 33s 28ms/step - loss: 0.0302 - accuracy: 0.9909 - val_loss: 78.1075 - val_accuracy: 0.7407\n"
     ]
    }
   ],
   "source": [
    "history=model.fit(x1_t, y1_t, epochs=10, batch_size=32, callbacks=[save_best], verbose=1, validation_data=(x_val, y_val))"
   ]
  },
  {
   "cell_type": "code",
   "execution_count": null,
   "id": "rocky-hardware",
   "metadata": {
    "execution": {
     "iopub.status.busy": "2021-06-02T16:38:31.588698Z",
     "iopub.status.idle": "2021-06-02T16:38:31.589131Z"
    },
    "papermill": {
     "duration": 1.748853,
     "end_time": "2021-06-02T18:18:57.398361",
     "exception": false,
     "start_time": "2021-06-02T18:18:55.649508",
     "status": "completed"
    },
    "tags": []
   },
   "outputs": [],
   "source": []
  },
  {
   "cell_type": "code",
   "execution_count": null,
   "id": "palestinian-success",
   "metadata": {
    "papermill": {
     "duration": 1.729002,
     "end_time": "2021-06-02T18:19:00.872472",
     "exception": false,
     "start_time": "2021-06-02T18:18:59.143470",
     "status": "completed"
    },
    "tags": []
   },
   "outputs": [],
   "source": []
  }
 ],
 "metadata": {
  "kernelspec": {
   "display_name": "Python 3",
   "language": "python",
   "name": "python3"
  },
  "language_info": {
   "codemirror_mode": {
    "name": "ipython",
    "version": 3
   },
   "file_extension": ".py",
   "mimetype": "text/x-python",
   "name": "python",
   "nbconvert_exporter": "python",
   "pygments_lexer": "ipython3",
   "version": "3.7.10"
  },
  "papermill": {
   "default_parameters": {},
   "duration": 363.136099,
   "end_time": "2021-06-02T18:19:04.590164",
   "environment_variables": {},
   "exception": null,
   "input_path": "__notebook__.ipynb",
   "output_path": "__notebook__.ipynb",
   "parameters": {},
   "start_time": "2021-06-02T18:13:01.454065",
   "version": "2.3.3"
  }
 },
 "nbformat": 4,
 "nbformat_minor": 5
}
